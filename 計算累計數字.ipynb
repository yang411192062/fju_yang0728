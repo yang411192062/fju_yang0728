{
  "nbformat": 4,
  "nbformat_minor": 0,
  "metadata": {
    "colab": {
      "provenance": [],
      "authorship_tag": "ABX9TyO6uAzqhWfVE0uXt7of56p6",
      "include_colab_link": true
    },
    "kernelspec": {
      "name": "python3",
      "display_name": "Python 3"
    },
    "language_info": {
      "name": "python"
    }
  },
  "cells": [
    {
      "cell_type": "markdown",
      "metadata": {
        "id": "view-in-github",
        "colab_type": "text"
      },
      "source": [
        "<a href=\"https://colab.research.google.com/github/yang411192062/fju_yang0728/blob/main/%E8%A8%88%E7%AE%97%E7%B4%AF%E8%A8%88%E6%95%B8%E5%AD%97.ipynb\" target=\"_parent\"><img src=\"https://colab.research.google.com/assets/colab-badge.svg\" alt=\"Open In Colab\"/></a>"
      ]
    },
    {
      "cell_type": "code",
      "source": [
        "Q1 = 26295929"
      ],
      "metadata": {
        "id": "NlwMXzMQoV9v"
      },
      "execution_count": 2,
      "outputs": []
    },
    {
      "cell_type": "code",
      "source": [
        "Q2 = 27668242"
      ],
      "metadata": {
        "id": "NnE6lvb-oYbX"
      },
      "execution_count": 3,
      "outputs": []
    },
    {
      "cell_type": "code",
      "source": [
        "Q3 = 27002293"
      ],
      "metadata": {
        "id": "zZYeBJUnoYqX"
      },
      "execution_count": 4,
      "outputs": []
    },
    {
      "cell_type": "code",
      "source": [
        "Q4 = 28347871"
      ],
      "metadata": {
        "id": "HmQPwiqzoYzu"
      },
      "execution_count": 5,
      "outputs": []
    },
    {
      "cell_type": "code",
      "source": [
        "Acc_Q1 = Q1\n",
        "print(Acc_Q1)"
      ],
      "metadata": {
        "colab": {
          "base_uri": "https://localhost:8080/"
        },
        "id": "ocgMLfdJpXBI",
        "outputId": "267be680-314f-4609-f145-cb3f902401fd"
      },
      "execution_count": 10,
      "outputs": [
        {
          "output_type": "stream",
          "name": "stdout",
          "text": [
            "26295929\n"
          ]
        }
      ]
    },
    {
      "cell_type": "code",
      "source": [
        "Acc_Q2 = Q1 + Q2\n",
        "print(Acc_Q2)"
      ],
      "metadata": {
        "colab": {
          "base_uri": "https://localhost:8080/"
        },
        "id": "TNRa6Z5kpXTn",
        "outputId": "39666a4f-4f39-4170-be40-5a62ad40a21e"
      },
      "execution_count": 12,
      "outputs": [
        {
          "output_type": "stream",
          "name": "stdout",
          "text": [
            "53964171\n"
          ]
        }
      ]
    },
    {
      "cell_type": "code",
      "source": [
        "Acc_Q3 = Q1 + Q2 + Q3\n",
        "print(Acc_Q3)"
      ],
      "metadata": {
        "colab": {
          "base_uri": "https://localhost:8080/"
        },
        "id": "qqzXlAfCplFf",
        "outputId": "b4d2f333-bd5d-4945-9eb5-612dd5b63a06"
      },
      "execution_count": 13,
      "outputs": [
        {
          "output_type": "stream",
          "name": "stdout",
          "text": [
            "80966464\n"
          ]
        }
      ]
    },
    {
      "cell_type": "code",
      "source": [
        "Acc_Q4 = Q1 + Q2 + Q3 + Q4\n",
        "print(Acc_Q4)"
      ],
      "metadata": {
        "colab": {
          "base_uri": "https://localhost:8080/"
        },
        "id": "gjVhTNjjpXa3",
        "outputId": "8a2ab95b-74f9-4764-ec9a-96bb4bac14ca"
      },
      "execution_count": 15,
      "outputs": [
        {
          "output_type": "stream",
          "name": "stdout",
          "text": [
            "109314335\n"
          ]
        }
      ]
    }
  ]
}